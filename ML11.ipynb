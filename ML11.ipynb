{
 "cells": [
  {
   "cell_type": "code",
   "execution_count": 1,
   "metadata": {},
   "outputs": [
    {
     "name": "stdout",
     "output_type": "stream",
     "text": [
      "Please enter your name : \n",
      "mike\n",
      "Please enter your name : \n",
      "vinod\n",
      "Please enter your name : \n",
      "vicky\n",
      "Please enter your name : \n",
      "vishwajeet\n",
      "Thank You vishwajeet\n"
     ]
    }
   ],
   "source": [
    "name = 'vishwajeet'\n",
    "\n",
    "while True:\n",
    "    print(\"Please enter your name : \")\n",
    "    name1 = input()\n",
    "    if name1 == name:\n",
    "        break\n",
    "print('Thank You',name)"
   ]
  },
  {
   "cell_type": "code",
   "execution_count": 3,
   "metadata": {},
   "outputs": [
    {
     "name": "stdout",
     "output_type": "stream",
     "text": [
      "Who are you?\n",
      "vishwajeet\n",
      "Hello, vishwajeet. what is your password'It is a fish'\n",
      "swordfish\n",
      "Congrats!!!, Access Granted\n"
     ]
    }
   ],
   "source": [
    "while True:\n",
    "    print('Who are you?')\n",
    "    name = input()\n",
    "    \n",
    "    if name != 'vishwajeet':\n",
    "        continue\n",
    "        \n",
    "    print(\"Hello, vishwajeet. what is your password'It is a fish'\")\n",
    "    password = input()\n",
    "    if password == 'swordfish':\n",
    "        break\n",
    "print('Congrats!!!, Access Granted')\n",
    "    "
   ]
  }
 ],
 "metadata": {
  "kernelspec": {
   "display_name": "Python 3",
   "language": "python",
   "name": "python3"
  },
  "language_info": {
   "codemirror_mode": {
    "name": "ipython",
    "version": 3
   },
   "file_extension": ".py",
   "mimetype": "text/x-python",
   "name": "python",
   "nbconvert_exporter": "python",
   "pygments_lexer": "ipython3",
   "version": "3.7.1"
  }
 },
 "nbformat": 4,
 "nbformat_minor": 2
}
