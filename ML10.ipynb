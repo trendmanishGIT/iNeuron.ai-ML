{
 "cells": [
  {
   "cell_type": "code",
   "execution_count": 6,
   "metadata": {},
   "outputs": [
    {
     "name": "stdout",
     "output_type": "stream",
     "text": [
      "Please enter your name : vishwajeet\n",
      "Aap ki age kay hai, vishwajeet? 14\n",
      "14\n",
      "Aap vote dalne ke liye 4 saal ke baad aaeye.\n"
     ]
    }
   ],
   "source": [
    "name = input(\"Please enter your name : \")\n",
    "age = int(input(\"Aap ki age kay hai, {0}? \".format(name)))\n",
    "\n",
    "print(age)\n",
    "\n",
    "\n",
    "if age >=18:\n",
    "    print(\"Aap vote de sakte hai!!!\")\n",
    "    \n",
    "else:\n",
    "    print(\"Aap vote dalne ke liye {0} saal ke baad aaeye.\".format(18-age))\n",
    "\n"
   ]
  },
  {
   "cell_type": "code",
   "execution_count": 10,
   "metadata": {},
   "outputs": [
    {
     "name": "stdout",
     "output_type": "stream",
     "text": [
      "Please guess a number b/w 1 to 10\n",
      "2\n",
      "Please guess higher\n",
      "3\n",
      "Sorry, you have not not guessed the correct number\n"
     ]
    }
   ],
   "source": [
    "print(\"Please guess a number b/w 1 to 10\")\n",
    "guess = int(input())\n",
    "\n",
    "if guess < 5:\n",
    "    print(\"Please guess higher\")\n",
    "    \n",
    "    guess = int(input())\n",
    "    if guess == 5:\n",
    "        print(\"Well done, your guess is correct!!\")\n",
    "    else:\n",
    "        print(\"Sorry, you have not not guessed the correct number\")\n",
    "elif guess > 5:\n",
    "    print(\"Please guess lower\")\n",
    "    \n",
    "    guess = int(input())\n",
    "    if guess == 5:\n",
    "        print(\"Well done, your guess is correct!!\")\n",
    "    else:\n",
    "        print(\"Sorry, you have not not guessed the correct number\")\n",
    "else:\n",
    "    print(\"You got it first time\")\n",
    "    \n",
    "    "
   ]
  }
 ],
 "metadata": {
  "kernelspec": {
   "display_name": "Python 3",
   "language": "python",
   "name": "python3"
  },
  "language_info": {
   "codemirror_mode": {
    "name": "ipython",
    "version": 3
   },
   "file_extension": ".py",
   "mimetype": "text/x-python",
   "name": "python",
   "nbconvert_exporter": "python",
   "pygments_lexer": "ipython3",
   "version": "3.7.1"
  }
 },
 "nbformat": 4,
 "nbformat_minor": 2
}
