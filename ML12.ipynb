{
 "cells": [
  {
   "cell_type": "code",
   "execution_count": 5,
   "metadata": {},
   "outputs": [
    {
     "name": "stdout",
     "output_type": "stream",
     "text": [
      "i is now 20\n",
      "i is now 18\n",
      "i is now 16\n",
      "i is now 14\n",
      "i is now 12\n",
      "i is now 10\n",
      "i is now 8\n",
      "i is now 6\n",
      "i is now 4\n",
      "i is now 2\n"
     ]
    }
   ],
   "source": [
    "for i in range(20,1,-2):\n",
    "    print('i is now {}'.format(i))"
   ]
  },
  {
   "cell_type": "code",
   "execution_count": 7,
   "metadata": {},
   "outputs": [
    {
     "name": "stdout",
     "output_type": "stream",
     "text": [
      "9\n",
      ",\n",
      "2\n",
      "2\n",
      "3\n",
      ",\n",
      "3\n",
      "7\n",
      "2\n",
      ",\n",
      "0\n",
      "3\n",
      "6\n",
      ",\n",
      "8\n",
      "5\n",
      "4\n",
      ",\n",
      "7\n",
      "7\n",
      "5\n",
      ",\n",
      "8\n",
      "0\n",
      "7\n"
     ]
    }
   ],
   "source": [
    "number = '9,223,372,036,854,775,807'\n",
    "\n",
    "for i in range(0,len(number)):\n",
    "    print(number[i])"
   ]
  },
  {
   "cell_type": "code",
   "execution_count": 12,
   "metadata": {},
   "outputs": [
    {
     "name": "stdout",
     "output_type": "stream",
     "text": [
      "<class 'str'>\n",
      "9223372036854775807"
     ]
    }
   ],
   "source": [
    "number = '9,223,372,036,854,775,807'\n",
    "print(type(number))\n",
    "for i in range(0,len(number)):\n",
    "    if number[i] in '0123456789':\n",
    "        print(number[i],end='')"
   ]
  },
  {
   "cell_type": "code",
   "execution_count": 11,
   "metadata": {},
   "outputs": [
    {
     "name": "stdout",
     "output_type": "stream",
     "text": [
      "<class 'int'>\n",
      "The number is 9223372036854775807\n"
     ]
    }
   ],
   "source": [
    "number = '9,223,372,036,854,775,807'\n",
    "cleanedNumber =''\n",
    "\n",
    "for i in range(0,len(number)):\n",
    "    if number[i] in '0123456789':\n",
    "        cleanedNumber = cleanedNumber + number[i]\n",
    "        \n",
    "newNumber = int(cleanedNumber)\n",
    "print(type(newNumber))\n",
    "print(\"The number is {}\".format(newNumber))"
   ]
  }
 ],
 "metadata": {
  "kernelspec": {
   "display_name": "Python 3",
   "language": "python",
   "name": "python3"
  },
  "language_info": {
   "codemirror_mode": {
    "name": "ipython",
    "version": 3
   },
   "file_extension": ".py",
   "mimetype": "text/x-python",
   "name": "python",
   "nbconvert_exporter": "python",
   "pygments_lexer": "ipython3",
   "version": "3.7.1"
  }
 },
 "nbformat": 4,
 "nbformat_minor": 2
}
