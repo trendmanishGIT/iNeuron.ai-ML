{
 "cells": [
  {
   "cell_type": "code",
   "execution_count": 8,
   "metadata": {},
   "outputs": [
    {
     "data": {
      "text/plain": [
       "'gray'"
      ]
     },
     "execution_count": 8,
     "metadata": {},
     "output_type": "execute_result"
    }
   ],
   "source": [
    "myCat = {'size':'fat','color':'gray','disposition':'loud'}\n",
    "\n",
    "myCat['color']"
   ]
  },
  {
   "cell_type": "code",
   "execution_count": 9,
   "metadata": {},
   "outputs": [
    {
     "data": {
      "text/plain": [
       "False"
      ]
     },
     "execution_count": 9,
     "metadata": {},
     "output_type": "execute_result"
    }
   ],
   "source": [
    "spam1 =['cat','dog','rat']\n",
    "spam2 =['dog','rat','cat']\n",
    "spam1 == spam2"
   ]
  },
  {
   "cell_type": "code",
   "execution_count": 10,
   "metadata": {},
   "outputs": [
    {
     "data": {
      "text/plain": [
       "True"
      ]
     },
     "execution_count": 10,
     "metadata": {},
     "output_type": "execute_result"
    }
   ],
   "source": [
    "myCat1 = {'size':'fat','color':'gray','disposition':'loud'}\n",
    "myCat2 = {'color':'gray','disposition':'loud','size':'fat'}\n",
    "myCat1 == myCat2"
   ]
  },
  {
   "cell_type": "code",
   "execution_count": 11,
   "metadata": {},
   "outputs": [
    {
     "name": "stdout",
     "output_type": "stream",
     "text": [
      "vishwajeet\n",
      "M\n",
      "29\n"
     ]
    }
   ],
   "source": [
    "spam = {'name':'vishwajeet','gender':'M','age':'29'}\n",
    "\n",
    "for v in spam.values():\n",
    "    print(v)"
   ]
  },
  {
   "cell_type": "code",
   "execution_count": 12,
   "metadata": {},
   "outputs": [
    {
     "name": "stdout",
     "output_type": "stream",
     "text": [
      "name\n",
      "gender\n",
      "age\n"
     ]
    }
   ],
   "source": [
    "for k in spam.keys():\n",
    "    print(k)"
   ]
  },
  {
   "cell_type": "code",
   "execution_count": 13,
   "metadata": {},
   "outputs": [
    {
     "name": "stdout",
     "output_type": "stream",
     "text": [
      "('name', 'vishwajeet')\n",
      "('gender', 'M')\n",
      "('age', '29')\n"
     ]
    }
   ],
   "source": [
    "for i in spam.items():\n",
    "    print(i)"
   ]
  },
  {
   "cell_type": "code",
   "execution_count": 15,
   "metadata": {},
   "outputs": [
    {
     "name": "stdout",
     "output_type": "stream",
     "text": [
      "Enter the name : \n",
      "Rahul\n",
      "Jan 1 is the birthday of Rahul\n",
      "Enter the name : \n",
      "vishwajeet\n",
      "Aug 1 is the birthday of vishwajeet\n",
      "Enter the name : \n",
      "Ram\n",
      "I do not have birthday info for Ram\n",
      "What is their birthday?\n",
      "Feb 20\n",
      "Birthday database is updated\n",
      "Enter the name : \n",
      "Ram\n",
      "Feb 20 is the birthday of Ram\n",
      "Enter the name : \n",
      "\n"
     ]
    }
   ],
   "source": [
    "birthdays = {'Rahul':'Jan 1','Vivek':'Aprl 21','vishwajeet':'Aug 1'}\n",
    "\n",
    "while True:\n",
    "    print(\"Enter the name : \")\n",
    "    name = input()\n",
    "    if name =='':\n",
    "        break\n",
    "        \n",
    "    if name in birthdays:\n",
    "        print(birthdays[name]+' is the birthday of '+ name)\n",
    "        \n",
    "    else:\n",
    "        print('I do not have birthday info for '+ name)\n",
    "        \n",
    "        print('What is their birthday?')\n",
    "        bday = input()\n",
    "        birthdays[name] = bday\n",
    "        print('Birthday database is updated')\n"
   ]
  }
 ],
 "metadata": {
  "kernelspec": {
   "display_name": "Python 3",
   "language": "python",
   "name": "python3"
  },
  "language_info": {
   "codemirror_mode": {
    "name": "ipython",
    "version": 3
   },
   "file_extension": ".py",
   "mimetype": "text/x-python",
   "name": "python",
   "nbconvert_exporter": "python",
   "pygments_lexer": "ipython3",
   "version": "3.7.1"
  }
 },
 "nbformat": 4,
 "nbformat_minor": 2
}
